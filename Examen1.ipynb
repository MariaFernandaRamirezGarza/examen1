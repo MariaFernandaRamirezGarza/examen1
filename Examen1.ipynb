{
  "nbformat": 4,
  "nbformat_minor": 0,
  "metadata": {
    "colab": {
      "provenance": [],
      "authorship_tag": "ABX9TyMs67TMl6olbK/Ou3jMTLlB",
      "include_colab_link": true
    },
    "kernelspec": {
      "name": "python3",
      "display_name": "Python 3"
    },
    "language_info": {
      "name": "python"
    }
  },
  "cells": [
    {
      "cell_type": "markdown",
      "metadata": {
        "id": "view-in-github",
        "colab_type": "text"
      },
      "source": [
        "<a href=\"https://colab.research.google.com/github/MariaFernandaRamirezGarza/examen1/blob/main/Examen1.ipynb\" target=\"_parent\"><img src=\"https://colab.research.google.com/assets/colab-badge.svg\" alt=\"Open In Colab\"/></a>"
      ]
    },
    {
      "cell_type": "markdown",
      "source": [
        "# 1.- ¿ES PRIMO?"
      ],
      "metadata": {
        "id": "U52jW-_Q0OKD"
      }
    },
    {
      "cell_type": "code",
      "execution_count": null,
      "metadata": {
        "colab": {
          "base_uri": "https://localhost:8080/"
        },
        "id": "KYELl1HkzVhg",
        "outputId": "14662c8e-7738-4d3f-ce72-be363dd436e9"
      },
      "outputs": [
        {
          "output_type": "stream",
          "name": "stdout",
          "text": [
            "Ingrese un número entero: 9\n",
            "9 no es un número primo.\n"
          ]
        }
      ],
      "source": [
        "def es_primo(numero):\n",
        "    if numero <= 1:\n",
        "        return False\n",
        "    if numero <= 3:\n",
        "        return True\n",
        "    if numero % 2 == 0 or numero % 3 == 0:\n",
        "        return False\n",
        "    i = 5\n",
        "    while i * i <= numero:\n",
        "        if numero % i == 0 or numero % (i + 2) == 0:\n",
        "            return False\n",
        "        i += 6\n",
        "    return True\n",
        "\n",
        "def main():\n",
        "    numero = int(input(\"Ingrese un número entero: \"))\n",
        "    if es_primo(numero):\n",
        "        print(f\"{numero} es un número primo.\")\n",
        "    else:\n",
        "        print(f\"{numero} no es un número primo.\")\n",
        "\n",
        "if __name__ == \"__main__\":\n",
        "    main()"
      ]
    },
    {
      "cell_type": "markdown",
      "source": [
        "# 2.- 2do Paso de: ¿Es primo?"
      ],
      "metadata": {
        "id": "9tx06RVH0dgh"
      }
    },
    {
      "cell_type": "code",
      "source": [
        "def es_primo(numero):\n",
        "    if numero <= 1:\n",
        "        return False\n",
        "    if numero <= 3:\n",
        "        return True\n",
        "    if numero % 2 == 0 or numero % 3 == 0:\n",
        "        return False\n",
        "    i = 5\n",
        "    while i * i <= numero:\n",
        "        if numero % i == 0 or numero % (i + 2) == 0:\n",
        "            return False\n",
        "        i += 6\n",
        "    return True\n",
        "\n",
        "def next_prime(n):\n",
        "    numero = n + 1\n",
        "    while True:\n",
        "        if es_primo(numero):\n",
        "            return numero\n",
        "        numero += 1\n",
        "\n",
        "def main():\n",
        "    n = int(input(\"Ingrese un número entero: \"))\n",
        "    siguiente_primo = next_prime(n)\n",
        "    print(f\"El primer número primo mayor que {n} es {siguiente_primo}.\")\n",
        "\n",
        "if __name__ == \"__main__\":\n",
        "    main()"
      ],
      "metadata": {
        "colab": {
          "base_uri": "https://localhost:8080/"
        },
        "id": "gqeh0wPK2nAx",
        "outputId": "e9c6f818-9d79-4581-e3f8-c32d2a236a75"
      },
      "execution_count": null,
      "outputs": [
        {
          "output_type": "stream",
          "name": "stdout",
          "text": [
            "Ingrese un número entero: 2\n",
            "El primer número primo mayor que 2 es 3.\n"
          ]
        }
      ]
    },
    {
      "cell_type": "markdown",
      "source": [
        "# 3.- Contraseña random"
      ],
      "metadata": {
        "id": "t00ERABm2uWx"
      }
    },
    {
      "cell_type": "code",
      "source": [
        "import random\n",
        "\n",
        "def generar_contrasena():\n",
        "    longitud = random.randint(7, 10)\n",
        "    contrasena = \"\"\n",
        "    for _ in range(longitud):\n",
        "        caracter = chr(random.randint(33, 126))\n",
        "        contrasena += caracter\n",
        "    return contrasena\n",
        "\n",
        "if __name__ == \"__main__\":\n",
        "    contrasena_generada = generar_contrasena()\n",
        "    print(f\"Contraseña generada: {contrasena_generada}\")"
      ],
      "metadata": {
        "colab": {
          "base_uri": "https://localhost:8080/"
        },
        "id": "NCJp3TCl3GAM",
        "outputId": "94d05a9c-9b3c-4480-829d-dbdd243411cf"
      },
      "execution_count": null,
      "outputs": [
        {
          "output_type": "stream",
          "name": "stdout",
          "text": [
            "Contraseña generada: $m|E*l}72\n"
          ]
        }
      ]
    },
    {
      "cell_type": "markdown",
      "source": [
        "# 4.- Mediana de 3 valores"
      ],
      "metadata": {
        "id": "ZfTmXp0-3MAP"
      }
    },
    {
      "cell_type": "code",
      "source": [
        "def mediana_de_tres(num1, num2, num3):\n",
        "    numeros = [num1, num2, num3]\n",
        "    numeros.sort()\n",
        "    return numeros[1]\n",
        "\n",
        "def main():\n",
        "    num1 = float(input(\"Ingrese el primer número: \"))\n",
        "    num2 = float(input(\"Ingrese el segundo número: \"))\n",
        "    num3 = float(input(\"Ingrese el tercer número: \"))\n",
        "\n",
        "    mediana = mediana_de_tres(num1, num2, num3)\n",
        "    print(f\"La mediana de los números ingresados es: {mediana}\")\n",
        "\n",
        "if __name__ == \"__main__\":\n",
        "    main()"
      ],
      "metadata": {
        "colab": {
          "base_uri": "https://localhost:8080/"
        },
        "id": "Ra8KiIzn3aG8",
        "outputId": "507222cd-cbeb-4472-b428-dc008bfe6f82"
      },
      "execution_count": null,
      "outputs": [
        {
          "output_type": "stream",
          "name": "stdout",
          "text": [
            "Ingrese el primer número: 7\n",
            "Ingrese el segundo número: 7\n",
            "Ingrese el tercer número: 7\n",
            "La mediana de los números ingresados es: 7.0\n"
          ]
        }
      ]
    },
    {
      "cell_type": "markdown",
      "source": [
        "# 5.- Calcular la hipotenusa"
      ],
      "metadata": {
        "id": "KAk8CXMn4wtJ"
      }
    },
    {
      "cell_type": "code",
      "source": [
        "import math\n",
        "\n",
        "def calcular_hipotenusa(lado1, lado2):\n",
        "    hipotenusa = math.sqrt(lado1**2 + lado2**2)\n",
        "    return hipotenusa\n",
        "\n",
        "def main():\n",
        "    lado1 = float(input(\"Ingrese la longitud del primer lado: \"))\n",
        "    lado2 = float(input(\"Ingrese la longitud del segundo lado: \"))\n",
        "\n",
        "    hipotenusa = calcular_hipotenusa(lado1, lado2)\n",
        "    print(f\"La longitud de la hipotenusa es: {hipotenusa}\")\n",
        "\n",
        "if __name__ == \"__main__\":\n",
        "    main()"
      ],
      "metadata": {
        "colab": {
          "base_uri": "https://localhost:8080/"
        },
        "id": "sY2b5Zvj4v6p",
        "outputId": "463ad0b2-aaee-4e62-c609-5cd09e9a9104"
      },
      "execution_count": null,
      "outputs": [
        {
          "output_type": "stream",
          "name": "stdout",
          "text": [
            "Ingrese la longitud del primer lado: 20\n",
            "Ingrese la longitud del segundo lado: 50\n",
            "La longitud de la hipotenusa es: 53.85164807134504\n"
          ]
        }
      ]
    }
  ]
}